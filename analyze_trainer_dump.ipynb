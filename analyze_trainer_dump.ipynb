{
 "cells": [
  {
   "cell_type": "code",
   "execution_count": 31,
   "id": "39600268-3175-418a-8066-1f7cd5cf449d",
   "metadata": {},
   "outputs": [],
   "source": [
    "import pandas as pd\n",
    "import numpy as np\n",
    "import matplotlib.pyplot as plt\n",
    "import plotly.offline as pyo\n",
    "import plotly.graph_objs as go\n",
    "import glob\n",
    "import os"
   ]
  },
  {
   "cell_type": "code",
   "execution_count": 32,
   "id": "8f86fcc8-44d8-42b6-ab68-e72c53e86a8f",
   "metadata": {},
   "outputs": [],
   "source": [
    "DUMP_ID = 0"
   ]
  },
  {
   "cell_type": "code",
   "execution_count": 33,
   "id": "89164880-02da-4317-9148-46fe9aaeebf6",
   "metadata": {},
   "outputs": [],
   "source": [
    "PATH_PREFIX = \"/mnt/storage/data/vision/imagenet/training_dumps/\" + str(DUMP_ID).zfill(8)"
   ]
  },
  {
   "cell_type": "markdown",
   "id": "4eaebd58-eb52-45dc-b157-af1e1deaaa7f",
   "metadata": {},
   "source": [
    "### Parameters"
   ]
  },
  {
   "cell_type": "code",
   "execution_count": 34,
   "id": "3b5e15c8-98be-44d2-b655-1116dd366cdd",
   "metadata": {},
   "outputs": [],
   "source": [
    "def get_values_from_files(filenames):\n",
    "    arr = []\n",
    "    for f in filenames:\n",
    "        arr.append(np.fromfile(f, dtype=np.float32))\n",
    "    return arr"
   ]
  },
  {
   "cell_type": "code",
   "execution_count": 35,
   "id": "61264ce0-fdda-40ba-a75c-f2236ff95119",
   "metadata": {},
   "outputs": [],
   "source": [
    "model_param_buffer_filenames = sorted(glob.glob(PATH_PREFIX + \"/model_params/*\"))\n",
    "gradient_buffer_filenames = sorted(glob.glob(PATH_PREFIX + \"/gradients/*\"))\n",
    "mean_buffer_filenames = sorted(glob.glob(PATH_PREFIX + \"/means/*\"))\n",
    "var_buffer_filenames = sorted(glob.glob(PATH_PREFIX + \"/vars/*\"))"
   ]
  },
  {
   "cell_type": "code",
   "execution_count": 36,
   "id": "92237956-78ee-4d63-84af-4eb55427469a",
   "metadata": {},
   "outputs": [],
   "source": [
    "model_params_list = get_values_from_files(model_param_buffer_filenames)\n",
    "gradients_list = get_values_from_files(gradient_buffer_filenames)\n",
    "means_list = get_values_from_files(mean_buffer_filenames)\n",
    "vars_list = get_values_from_files(var_buffer_filenames)"
   ]
  },
  {
   "cell_type": "code",
   "execution_count": 38,
   "id": "f610ef92-304d-491a-9465-6d940220bfa7",
   "metadata": {},
   "outputs": [
    {
     "name": "stdout",
     "output_type": "stream",
     "text": [
      "[-0.07024691-0.0003498908]\n",
      "[-0.004640654-0.0069248206]\n",
      "[-0.0068911333-0.0070305406]\n",
      "[0.0-0.0]\n",
      "[-0.011359994-0.01175353]\n",
      "[-0.0018170654-0.0018187842]\n",
      "[-0.0021061879-0.002442209]\n",
      "[0.0-0.0]\n",
      "[-0.00980216-0.007950861]\n",
      "[-0.003898598-0.0026665821]\n",
      "[-0.00237344-0.0033221242]\n",
      "[0.0-0.0]\n",
      "[-0.026859613-0.019808708]\n",
      "[-0.016049527-0.012219827]\n",
      "[-0.018300526-0.015902676]\n",
      "[0.0-0.0]\n",
      "[-0.030393561-0.032789897]\n",
      "[-0.006689275-0.006144455]\n",
      "[-0.0052961283-0.007407715]\n",
      "[0.0-0.0]\n",
      "[-0.027675362-0.022384608]\n",
      "[-0.012485988-0.009876523]\n",
      "[-0.0072650043-0.007621554]\n",
      "[0.0-0.0]\n",
      "[-0.082668796-0.07605156]\n",
      "[-0.07946008-0.080489166]\n",
      "[-0.05627612-0.059064656]\n",
      "[0.0-0.0]\n",
      "[-0.09134174-0.07538579]\n",
      "[0.0-0.0]\n",
      "[-0.100220285-0.09426703]\n",
      "[-0.018568872-0.02651084]\n",
      "[-0.01735263-0.014070661]\n",
      "[0.0-0.0]\n",
      "[-0.11231387-0.12507866]\n",
      "[-0.025044804-0.03915618]\n",
      "[-0.019966854-0.018849608]\n",
      "[0.0-0.0]\n",
      "[-0.25096956-0.2480224]\n",
      "[-0.015131909-0.012755568]\n",
      "[-0.03473585-0.032444734]\n",
      "[0.0-0.0]\n",
      "[-0.036047384-0.050074615]\n",
      "[-0.003027898-0.0024099243]\n",
      "[-0.004487688-0.003501547]\n",
      "[0.0-0.0]\n",
      "[-0.02539804-0.030651568]\n",
      "[-0.0051462855-0.004266646]\n",
      "[-0.0047161574-0.0037027865]\n",
      "[0.0-0.0]\n",
      "[-0.049788054-0.06127004]\n",
      "[-0.023903297-0.023832282]\n",
      "[-0.07371323-0.0742779]\n",
      "[0.0-0.0]\n",
      "[-0.080968775-0.06665674]\n",
      "[-0.005260087-0.0041050734]\n",
      "[-0.007291798-0.0051387544]\n",
      "[0.0-0.0]\n",
      "[-0.043224473-0.062640235]\n",
      "[-0.008462219-0.0071950313]\n",
      "[-0.010051668-0.010026657]\n",
      "[0.0-0.0]\n",
      "[-0.14244464-0.13527049]\n",
      "[-0.04570414-0.05098317]\n",
      "[-0.156464-0.16034962]\n",
      "[0.0-0.0]\n",
      "[-0.1454047-0.15939666]\n",
      "[-0.008025181-0.009616794]\n",
      "[-0.011570159-0.012708224]\n",
      "[0.0-0.0]\n",
      "[-0.085309416-0.091577485]\n",
      "[-0.013024531-0.012934413]\n",
      "[-0.0131490985-0.016204907]\n",
      "[0.0-0.0]\n",
      "[-0.204061-0.1861451]\n",
      "[-0.12244957-0.10257691]\n",
      "[-0.3450061-0.33641726]\n",
      "[0.0-0.0]\n",
      "[-0.34183216-0.30848417]\n",
      "[-0.02045032-0.021158751]\n",
      "[-0.025474878-0.02988397]\n",
      "[0.0-0.0]\n",
      "[-0.20350681-0.22018372]\n",
      "[-0.0321457-0.030157726]\n",
      "[-0.037847925-0.030325511]\n",
      "[0.0-0.0]\n",
      "[-0.5156047-0.5752009]\n",
      "[-0.30302808-0.32841545]\n",
      "[-0.7396159-0.77255404]\n",
      "[0.0-0.0]\n",
      "[-0.91772205-0.8971117]\n",
      "[-0.08246066-0.084778816]\n",
      "[-0.095440626-0.09704712]\n",
      "[0.0-0.0]\n",
      "[-0.71836764-0.6408591]\n",
      "[-0.16611789-0.15003958]\n",
      "[-0.121353105-0.15156387]\n",
      "[0.0-0.0]\n",
      "[-3.0852385-2.7079232]\n",
      "[-1.5494683-1.739651]\n",
      "[-1.9995881-1.6872782]\n",
      "[0.0-0.0]\n",
      "[-6.8569574-5.778382]\n",
      "[0.0-0.0]\n",
      "[-6.1902146-5.3359847]\n",
      "[-0.7179017-0.75955415]\n",
      "[-0.5594906-0.6676398]\n",
      "[0.0-0.0]\n",
      "[-9.57062-8.302872]\n",
      "[-1.1254662-1.0901265]\n",
      "[-0.9567505-0.705321]\n",
      "[0.0-0.0]\n",
      "[-23.158417-29.505856]\n",
      "[-0.6715447-0.97683865]\n",
      "[-1.0495665-1.823352]\n",
      "[0.0-0.0]\n",
      "[-1.8840735-1.4535396]\n",
      "[-0.06234722-0.09569042]\n",
      "[-0.08678981-0.121275045]\n",
      "[0.0-0.0]\n",
      "[-1.7571709-1.1850038]\n",
      "[-0.13233908-0.15274175]\n",
      "[-0.10641269-0.096230164]\n",
      "[0.0-0.0]\n",
      "[-3.1816711-3.0657103]\n",
      "[-1.9214928-1.2637023]\n",
      "[-4.2941504-2.5477796]\n",
      "[0.0-0.0]\n",
      "[-3.0332916-4.0407457]\n",
      "[-0.24204683-0.18916471]\n",
      "[-0.30964932-0.21623774]\n",
      "[0.0-0.0]\n",
      "[-2.9904919-4.7145553]\n",
      "[-0.33630618-0.33234414]\n",
      "[-0.3241307-0.3196772]\n",
      "[0.0-0.0]\n",
      "[-12.628941-12.528626]\n",
      "[-3.006444-4.7960105]\n",
      "[-6.2637997-10.294262]\n",
      "[0.0-0.0]\n",
      "[-11.651505-8.046732]\n",
      "[-0.68342954-0.7516437]\n",
      "[-0.81304324-0.9298064]\n",
      "[0.0-0.0]\n",
      "[-14.227839-13.669479]\n",
      "[-1.0181404-1.8336049]\n",
      "[-0.9888574-1.2886006]\n",
      "[0.0-0.0]\n",
      "[-61.16393-44.1166]\n",
      "[-20.73044-12.474152]\n",
      "[-27.04432-16.117424]\n",
      "[0.0-0.0]\n",
      "[-141.0631-235.6681]\n",
      "[0.0-0.0]\n",
      "[-123.18847-200.24974]\n",
      "[-9.101641-13.117833]\n",
      "[-5.4644246-12.501242]\n",
      "[0.0-0.0]\n",
      "[-378.16055-202.33888]\n",
      "[-17.25995-16.914043]\n",
      "[-17.473337-8.7795515]\n",
      "[0.0-0.0]\n",
      "[-1042.0461-1451.1174]\n",
      "[-6.3829107-27.280067]\n",
      "[-1.7625606-49.861748]\n",
      "[0.0-0.0]\n",
      "[-65.41634-14.247946]\n",
      "[-1.2800412-1.4770792]\n",
      "[-1.2595686-1.4898254]\n",
      "[0.0-0.0]\n",
      "[-44.262886-34.660385]\n",
      "[-2.6579578-2.2288404]\n",
      "[-2.5232985-1.8504055]\n",
      "[0.0-0.0]\n",
      "[-153.24673-221.12369]\n",
      "[-70.339554-11.705701]\n",
      "[-129.10657-7.6785383]\n",
      "[0.0-0.0]\n",
      "[-29.977966-225.56024]\n",
      "[-5.271282-7.274259]\n",
      "[-4.1448045-5.108899]\n",
      "[0.0-0.0]\n",
      "[-200.42989-162.69308]\n",
      "[-11.668428-10.444447]\n",
      "[-13.331072-9.789847]\n",
      "[0.0-0.0]\n",
      "[-1164.6531-1487.9823]\n",
      "[-40.206287-291.92795]\n",
      "[-26.849262-359.91348]\n",
      "[0.0-0.0]\n",
      "[-28908.441-3080.9646]\n",
      "[0.0-0.0]\n",
      "[-19624.47-2249.0603]\n",
      "[-775.34436-365.57294]\n",
      "[-970.02167-149.81099]\n",
      "[0.0-0.0]\n",
      "[-9804.505-36367.934]\n",
      "[-1239.4719-1880.8638]\n",
      "[-604.04065-2358.625]\n",
      "[0.0-0.0]\n",
      "[-483049.44-105468.47]\n",
      "[-3453.6755-1785.5898]\n",
      "[-5192.43-1272.5286]\n",
      "[0.0-0.0]\n",
      "[-183849.81-232554.16]\n"
     ]
    }
   ],
   "source": [
    "for i in range(204, -1, -1):\n",
    "    print(\"[\" + str(min(gradients_list[i])) + \"-\" + str(max(gradients_list[i])) + \"]\")"
   ]
  },
  {
   "cell_type": "markdown",
   "id": "6f8cfc1c-e653-42dc-a52f-df388679ced8",
   "metadata": {},
   "source": [
    "### Forward Activations"
   ]
  },
  {
   "cell_type": "code",
   "execution_count": 7,
   "id": "ed71ec68-def7-48ce-823b-dcdcab813938",
   "metadata": {},
   "outputs": [],
   "source": [
    "def gather_batch_norm_data(dir_name):\n",
    "    pass"
   ]
  },
  {
   "cell_type": "code",
   "execution_count": 8,
   "id": "81130980-301c-487f-aa97-b6ee8c801405",
   "metadata": {},
   "outputs": [],
   "source": [
    "def gather_convblock_data(dir_name):\n",
    "    pass"
   ]
  },
  {
   "cell_type": "markdown",
   "id": "a243f95e-5e9a-4406-9b53-9f2f16c199ec",
   "metadata": {},
   "source": [
    "#### Initial Conv Layer and MaxPool"
   ]
  },
  {
   "cell_type": "code",
   "execution_count": 9,
   "id": "936f407c-7183-41b6-872e-7e92e915b18d",
   "metadata": {},
   "outputs": [],
   "source": [
    "init_conv_applied = np.fromfile(PATH_PREFIX + \"/activations/init_conv_applied.buffer\", dtype=np.float32)\n",
    "init_conv_activated = np.fromfile(PATH_PREFIX + \"/activations/init_conv_activated.buffer\", dtype=np.float32)\n",
    "max_inds = np.fromfile(PATH_PREFIX + \"/activations/max_inds.buffer\", dtype=np.int32)\n",
    "init_convblock_input = np.fromfile(PATH_PREFIX + \"/activations/init_convblock_input.buffer\", dtype=np.float32)"
   ]
  },
  {
   "cell_type": "code",
   "execution_count": 26,
   "id": "fea54ea7-fb68-4fcf-998d-032fd9ebdd9d",
   "metadata": {},
   "outputs": [
    {
     "data": {
      "text/plain": [
       "9.327545"
      ]
     },
     "execution_count": 26,
     "metadata": {},
     "output_type": "execute_result"
    }
   ],
   "source": [
    "max(init_convblock_input)"
   ]
  },
  {
   "cell_type": "markdown",
   "id": "666773b6-55eb-4d78-a55f-348b9a7313ec",
   "metadata": {},
   "source": [
    "#### Final Avg Pool, Fully Connected, and Softmax"
   ]
  },
  {
   "cell_type": "code",
   "execution_count": 10,
   "id": "23792b56-eb10-4c18-829c-5a00f0676d83",
   "metadata": {},
   "outputs": [],
   "source": [
    "final_avg_pool = np.fromfile(PATH_PREFIX + \"/activations/final_avg_pool.buffer\", dtype=np.float32)\n",
    "fc_output = np.fromfile(PATH_PREFIX + \"/activations/fc_output.buffer\", dtype=np.float32)\n",
    "prediction = np.fromfile(PATH_PREFIX + \"/activations/softmax.buffer\", dtype=np.float32)\n",
    "correct_classes = np.fromfile(PATH_PREFIX + \"/activations/correct_classes.buffer\", dtype=np.int32)"
   ]
  },
  {
   "cell_type": "code",
   "execution_count": 30,
   "id": "8e028e0b-be5d-4702-9a75-9f8957518906",
   "metadata": {},
   "outputs": [
    {
     "data": {
      "text/plain": [
       "-4.580309"
      ]
     },
     "execution_count": 30,
     "metadata": {},
     "output_type": "execute_result"
    }
   ],
   "source": [
    "min(fc_output)"
   ]
  },
  {
   "cell_type": "markdown",
   "id": "fb7c3b52-18f9-4578-a225-62948b0a6f13",
   "metadata": {},
   "source": [
    "### Backward Activations"
   ]
  },
  {
   "cell_type": "code",
   "execution_count": 11,
   "id": "757324f7-ae72-4736-8ccd-fa33cbf14660",
   "metadata": {},
   "outputs": [],
   "source": [
    "d_init_conv_applied = np.fromfile(PATH_PREFIX + \"/activation_derivs/init_conv_applied.buffer\", dtype=np.float32)\n",
    "d_init_conv_activated = np.fromfile(PATH_PREFIX + \"/activation_derivs/init_conv_activated.buffer\", dtype=np.float32)\n",
    "d_init_convblock_input = np.fromfile(PATH_PREFIX + \"/activation_derivs/init_convblock_input.buffer\", dtype=np.float32)\n",
    "d_final_avg_pool = np.fromfile(PATH_PREFIX + \"/activation_derivs/final_avg_pool.buffer\", dtype=np.float32)\n",
    "d_fc_output = np.fromfile(PATH_PREFIX + \"/activation_derivs/fc_output.buffer\", dtype=np.float32)\n",
    "d_prediction = np.fromfile(PATH_PREFIX + \"/activation_derivs/softmax.buffer\", dtype=np.float32)"
   ]
  },
  {
   "cell_type": "code",
   "execution_count": null,
   "id": "75a609e6-c178-4d36-85ea-89642ae7e846",
   "metadata": {},
   "outputs": [],
   "source": []
  }
 ],
 "metadata": {
  "kernelspec": {
   "display_name": "Python 3 (ipykernel)",
   "language": "python",
   "name": "python3"
  },
  "language_info": {
   "codemirror_mode": {
    "name": "ipython",
    "version": 3
   },
   "file_extension": ".py",
   "mimetype": "text/x-python",
   "name": "python",
   "nbconvert_exporter": "python",
   "pygments_lexer": "ipython3",
   "version": "3.10.6"
  }
 },
 "nbformat": 4,
 "nbformat_minor": 5
}
