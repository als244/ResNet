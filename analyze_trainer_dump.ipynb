{
 "cells": [
  {
   "cell_type": "code",
   "execution_count": 2,
   "id": "39600268-3175-418a-8066-1f7cd5cf449d",
   "metadata": {},
   "outputs": [],
   "source": [
    "import pandas as pd\n",
    "import numpy as np\n",
    "import matplotlib.pyplot as plt\n",
    "import plotly.offline as pyo\n",
    "import plotly.graph_objs as go\n",
    "import glob\n",
    "import os"
   ]
  },
  {
   "cell_type": "code",
   "execution_count": 96,
   "id": "8f86fcc8-44d8-42b6-ab68-e72c53e86a8f",
   "metadata": {},
   "outputs": [],
   "source": [
    "DUMP_ID = 20"
   ]
  },
  {
   "cell_type": "code",
   "execution_count": 97,
   "id": "89164880-02da-4317-9148-46fe9aaeebf6",
   "metadata": {},
   "outputs": [],
   "source": [
    "PATH_PREFIX = \"/mnt/storage/data/vision/imagenet/training_dumps/\" + str(DUMP_ID).zfill(8)"
   ]
  },
  {
   "cell_type": "markdown",
   "id": "4eaebd58-eb52-45dc-b157-af1e1deaaa7f",
   "metadata": {},
   "source": [
    "### Parameters"
   ]
  },
  {
   "cell_type": "code",
   "execution_count": 11,
   "id": "3b5e15c8-98be-44d2-b655-1116dd366cdd",
   "metadata": {},
   "outputs": [],
   "source": [
    "def get_values_from_files(filenames):\n",
    "    arr = []\n",
    "    for f in filenames:\n",
    "        arr.append(np.fromfile(f, dtype=np.float32))\n",
    "    return arr"
   ]
  },
  {
   "cell_type": "code",
   "execution_count": 98,
   "id": "61264ce0-fdda-40ba-a75c-f2236ff95119",
   "metadata": {},
   "outputs": [],
   "source": [
    "model_param_buffer_filenames = sorted(glob.glob(PATH_PREFIX + \"/model_params/*\"))\n",
    "gradient_buffer_filenames = sorted(glob.glob(PATH_PREFIX + \"/gradients/*\"))\n",
    "mean_buffer_filenames = sorted(glob.glob(PATH_PREFIX + \"/means/*\"))\n",
    "var_buffer_filenames = sorted(glob.glob(PATH_PREFIX + \"/vars/*\"))"
   ]
  },
  {
   "cell_type": "code",
   "execution_count": 99,
   "id": "92237956-78ee-4d63-84af-4eb55427469a",
   "metadata": {},
   "outputs": [],
   "source": [
    "model_params_list = get_values_from_files(model_param_buffer_filenames)\n",
    "gradients_list = get_values_from_files(gradient_buffer_filenames)\n",
    "means_list = get_values_from_files(mean_buffer_filenames)\n",
    "vars_list = get_values_from_files(var_buffer_filenames)"
   ]
  },
  {
   "cell_type": "code",
   "execution_count": 100,
   "id": "f610ef92-304d-491a-9465-6d940220bfa7",
   "metadata": {},
   "outputs": [
    {
     "name": "stdout",
     "output_type": "stream",
     "text": [
      "[-7.346592-0.24462497]\n",
      "[-0.1179582-0.14559618]\n",
      "[-0.0721461-0.08362873]\n",
      "[0.0-0.0]\n",
      "[-1.1489965-1.0923663]\n",
      "[-0.48844644-0.4247844]\n",
      "[-0.27774802-0.29459515]\n",
      "[0.0-0.0]\n",
      "[-1.2510228-1.0953969]\n",
      "[-0.6572272-0.523505]\n",
      "[-0.42086893-0.46815622]\n",
      "[0.0-0.0]\n",
      "[-7.1746826-7.5405064]\n",
      "[-0.5009949-0.39637223]\n",
      "[-0.21484597-0.2040641]\n",
      "[0.0-0.0]\n",
      "[-3.2134016-3.5778515]\n",
      "[-1.0729384-1.2865623]\n",
      "[-0.8267661-0.9580863]\n",
      "[0.0-0.0]\n",
      "[-3.4770713-3.3286843]\n",
      "[-1.6324428-1.7588785]\n",
      "[-1.2719656-1.1485192]\n",
      "[0.0-0.0]\n",
      "[-15.950534-16.685757]\n",
      "[-1.2159746-1.2504745]\n",
      "[-0.62604916-0.69551206]\n",
      "[0.0-0.0]\n",
      "[-5.6940103-5.5520563]\n",
      "[-1.2159746-1.2504745]\n",
      "[-0.5489419-0.5905269]\n",
      "[0.0-0.0]\n",
      "[-9.995241-8.875591]\n",
      "[-3.309212-3.8074222]\n",
      "[-2.4537017-2.6209211]\n",
      "[0.0-0.0]\n",
      "[-21.98453-17.283842]\n",
      "[-6.0278697-5.2382464]\n",
      "[-4.683412-4.2432613]\n",
      "[0.0-0.0]\n",
      "[-148.7459-174.04509]\n",
      "[-5.2730937-4.0930133]\n",
      "[-1.46336-1.1081657]\n",
      "[0.0-0.0]\n",
      "[-61.31696-67.43459]\n",
      "[-12.254918-13.188122]\n",
      "[-8.962111-8.164194]\n",
      "[0.0-0.0]\n",
      "[-61.75834-65.56996]\n",
      "[-19.721317-14.097773]\n",
      "[-12.927198-11.77949]\n",
      "[0.0-0.0]\n",
      "[-429.8794-419.44394]\n",
      "[-12.09315-10.304287]\n",
      "[-3.6036224-3.4120262]\n",
      "[0.0-0.0]\n",
      "[-167.61172-172.25726]\n",
      "[-25.09794-42.744762]\n",
      "[-18.906673-26.69836]\n",
      "[0.0-0.0]\n",
      "[-177.6347-135.03581]\n",
      "[-67.86718-67.85384]\n",
      "[-39.148705-42.163754]\n",
      "[0.0-0.0]\n",
      "[-1334.2399-1301.9863]\n",
      "[-31.765865-33.551495]\n",
      "[-10.688084-9.775749]\n",
      "[0.0-0.0]\n",
      "[-477.8997-470.11356]\n",
      "[-126.94128-95.00844]\n",
      "[-85.03336-64.57452]\n",
      "[0.0-0.0]\n",
      "[-474.33328-643.20953]\n",
      "[-214.58469-159.5733]\n",
      "[-131.63269-92.97812]\n",
      "[0.0-0.0]\n",
      "[-3379.5742-4081.1719]\n",
      "[-122.532326-134.08377]\n",
      "[-43.56571-45.854134]\n",
      "[0.0-0.0]\n",
      "[-1931.4843-1649.8113]\n",
      "[-367.89-299.78003]\n",
      "[-233.3185-228.0514]\n",
      "[0.0-0.0]\n",
      "[-1739.6108-1693.4208]\n",
      "[-537.57153-576.0149]\n",
      "[-363.39908-548.166]\n",
      "[0.0-0.0]\n",
      "[-17570.66-14471.008]\n",
      "[-326.00186-408.03287]\n",
      "[-162.63605-180.8235]\n",
      "[0.0-0.0]\n",
      "[-5702.457-5723.3613]\n",
      "[-1401.8254-1010.7669]\n",
      "[-884.509-814.7307]\n",
      "[0.0-0.0]\n",
      "[-6164.298-6275.384]\n",
      "[-1855.9196-1548.7908]\n",
      "[-1084.2792-1215.7136]\n",
      "[0.0-0.0]\n",
      "[-32374.3-26830.605]\n",
      "[-1144.094-1051.7977]\n",
      "[-604.7497-833.82434]\n",
      "[0.0-0.0]\n",
      "[-10107.031-7949.167]\n",
      "[-1144.094-1051.7977]\n",
      "[-687.3251-763.0101]\n",
      "[0.0-0.0]\n",
      "[-22309.059-20613.295]\n",
      "[-3327.329-3336.9602]\n",
      "[-2167.2375-2976.2273]\n",
      "[0.0-0.0]\n",
      "[-44908.402-32637.867]\n",
      "[-6156.5986-6184.4487]\n",
      "[-4423.164-4387.6284]\n",
      "[0.0-0.0]\n",
      "[-308966.6-315190.9]\n",
      "[-5179.6475-4816.85]\n",
      "[-2207.8032-1360.3983]\n",
      "[0.0-0.0]\n",
      "[-123565.5-187192.31]\n",
      "[-13234.124-12247.446]\n",
      "[-9975.498-8573.324]\n",
      "[0.0-0.0]\n",
      "[-117292.52-138358.42]\n",
      "[-29531.523-23805.602]\n",
      "[-22018.623-17709.725]\n",
      "[0.0-0.0]\n",
      "[-1059356.5-1584176.0]\n",
      "[-20300.678-19708.152]\n",
      "[-7038.0063-7327.8696]\n",
      "[0.0-0.0]\n",
      "[-603256.1-611273.3]\n",
      "[-56252.97-45573.2]\n",
      "[-45331.496-40638.137]\n",
      "[0.0-0.0]\n",
      "[-622448.75-735751.56]\n",
      "[-76933.695-66013.05]\n",
      "[-70412.71-62286.816]\n",
      "[0.0-0.0]\n",
      "[-3759016.0-4322510.5]\n",
      "[-63483.59-68199.53]\n",
      "[-28969.742-29552.244]\n",
      "[0.0-0.0]\n",
      "[-1916172.0-2052440.5]\n",
      "[-134141.77-135973.02]\n",
      "[-109895.05-103201.4]\n",
      "[0.0-0.0]\n",
      "[-1606307.9-1699413.0]\n",
      "[-235262.75-246189.25]\n",
      "[-190417.89-199352.77]\n",
      "[0.0-0.0]\n",
      "[-12286638.0-11039070.0]\n",
      "[-192354.11-232381.3]\n",
      "[-94716.4-114609.02]\n",
      "[0.0-0.0]\n",
      "[-3570894.5-3107406.0]\n",
      "[-192354.11-232381.3]\n",
      "[-97192.555-119649.625]\n",
      "[0.0-0.0]\n",
      "[-7176890.0-6510374.0]\n",
      "[-528904.0-549234.06]\n",
      "[-371416.12-361630.1]\n",
      "[0.0-0.0]\n",
      "[-12433222.0-12040434.0]\n",
      "[-1017775.3-1090819.4]\n",
      "[-727026.06-632621.3]\n",
      "[0.0-0.0]\n",
      "[-78721450.0-97559496.0]\n",
      "[-1004483.5-808880.7]\n",
      "[-309346.25-356566.22]\n",
      "[0.0-0.0]\n",
      "[-55444904.0-59566900.0]\n",
      "[-3335232.0-2250079.2]\n",
      "[-2320012.5-1931898.6]\n",
      "[0.0-0.0]\n",
      "[-50825092.0-87149176.0]\n",
      "[-3968363.8-4563520.5]\n",
      "[-2820191.0-3091667.5]\n",
      "[0.0-0.0]\n",
      "[-502814800.0-439422820.0]\n",
      "[-3495422.8-3867911.0]\n",
      "[-1586556.6-1832625.5]\n",
      "[0.0-0.0]\n",
      "[-237192020.0-272960500.0]\n",
      "[-10058358.0-12481051.0]\n",
      "[-7065031.0-8083723.0]\n",
      "[0.0-0.0]\n",
      "[-230603470.0-293256200.0]\n",
      "[-25151948.0-22756188.0]\n",
      "[-19015248.0-16917066.0]\n",
      "[0.0-0.0]\n",
      "[-2653013800.0-3358100500.0]\n",
      "[-18932236.0-16082552.0]\n",
      "[-8271221.5-11275418.0]\n",
      "[0.0-0.0]\n",
      "[-1719149200.0-2032137300.0]\n",
      "[-18932236.0-16082552.0]\n",
      "[-7357157.5-7474173.5]\n",
      "[0.0-0.0]\n",
      "[-1260598800.0-1427610100.0]\n",
      "[-29676184.0-46117256.0]\n",
      "[-23646218.0-30645108.0]\n",
      "[0.0-0.0]\n",
      "[-1165086300.0-892140800.0]\n",
      "[-49427900.0-54024850.0]\n",
      "[-47683292.0-46123976.0]\n",
      "[0.0-0.0]\n",
      "[-7069561000.0-5750743000.0]\n",
      "[-70763064.0-116139816.0]\n",
      "[-60997570.0-102020620.0]\n",
      "[0.0-0.0]\n",
      "[-4580923000.0-5698464000.0]\n"
     ]
    }
   ],
   "source": [
    "for i in range(212, -1, -1):\n",
    "    print(\"[\" + str(min(gradients_list[i])) + \"-\" + str(max(gradients_list[i])) + \"]\")"
   ]
  },
  {
   "cell_type": "markdown",
   "id": "6f8cfc1c-e653-42dc-a52f-df388679ced8",
   "metadata": {},
   "source": [
    "### Forward Activations"
   ]
  },
  {
   "cell_type": "code",
   "execution_count": 18,
   "id": "ed71ec68-def7-48ce-823b-dcdcab813938",
   "metadata": {},
   "outputs": [],
   "source": [
    "def gather_batch_norm_data(dir_name):\n",
    "    data_list = []\n",
    "    for s in [\"reduced\", \"spatial\", \"expanded\"]:\n",
    "        for f in [\"means.buffer\", \"vars.buffer\", \"norm_temp.buffer\", \"norm.buffer\"]:\n",
    "            data = np.fromfile(dir_name + \"/\" + s + \"/\" + f, dtype=np.float32)\n",
    "            data_list.append(data)\n",
    "    return data_list"
   ]
  },
  {
   "cell_type": "code",
   "execution_count": 19,
   "id": "81130980-301c-487f-aa97-b6ee8c801405",
   "metadata": {},
   "outputs": [],
   "source": [
    "def gather_convblock_data(dir_name):\n",
    "    data_list = []\n",
    "    for f in [\"reduction_applied.buffer\", \"reduction_activated.buffer\", \"spatial_applied.buffer\", \"spatial_activated.buffer\", \"expanded_applied.buffer\", \"combined_output.buffer\", \"output_activated.buffer\"]:\n",
    "        data = np.fromfile(dir_name + \"/\" + f, dtype=np.float32)\n",
    "        data_list.append(data)\n",
    "    return data_list"
   ]
  },
  {
   "cell_type": "markdown",
   "id": "a243f95e-5e9a-4406-9b53-9f2f16c199ec",
   "metadata": {},
   "source": [
    "#### Initial Conv Layer and MaxPool"
   ]
  },
  {
   "cell_type": "code",
   "execution_count": 66,
   "id": "936f407c-7183-41b6-872e-7e92e915b18d",
   "metadata": {},
   "outputs": [],
   "source": [
    "init_conv_applied = np.fromfile(PATH_PREFIX + \"/activations/init_conv_applied.buffer\", dtype=np.float32)\n",
    "init_conv_activated = np.fromfile(PATH_PREFIX + \"/activations/init_conv_activated.buffer\", dtype=np.float32)\n",
    "max_inds = np.fromfile(PATH_PREFIX + \"/activations/max_inds.buffer\", dtype=np.int32)\n",
    "init_convblock_input = np.fromfile(PATH_PREFIX + \"/activations/init_convblock_input.buffer\", dtype=np.float32)"
   ]
  },
  {
   "cell_type": "code",
   "execution_count": 68,
   "id": "fea54ea7-fb68-4fcf-998d-032fd9ebdd9d",
   "metadata": {},
   "outputs": [],
   "source": [
    "data_list = gather_batch_norm_data(PATH_PREFIX + \"/activations/batch_norms/00\")"
   ]
  },
  {
   "cell_type": "code",
   "execution_count": 69,
   "id": "b31f25f6-26ea-472f-a5ae-f8cd8d293b0b",
   "metadata": {},
   "outputs": [],
   "source": [
    "conv_data_list = gather_convblock_data(PATH_PREFIX + \"/activations/conv_blocks/15\")"
   ]
  },
  {
   "cell_type": "markdown",
   "id": "666773b6-55eb-4d78-a55f-348b9a7313ec",
   "metadata": {},
   "source": [
    "#### Final Avg Pool, Fully Connected, and Softmax"
   ]
  },
  {
   "cell_type": "code",
   "execution_count": 67,
   "id": "23792b56-eb10-4c18-829c-5a00f0676d83",
   "metadata": {},
   "outputs": [],
   "source": [
    "final_avg_pool = np.fromfile(PATH_PREFIX + \"/activations/final_avg_pool.buffer\", dtype=np.float32)\n",
    "fc_output = np.fromfile(PATH_PREFIX + \"/activations/fc_output.buffer\", dtype=np.float32)\n",
    "prediction = np.fromfile(PATH_PREFIX + \"/activations/softmax.buffer\", dtype=np.float32)\n",
    "correct_classes = np.fromfile(PATH_PREFIX + \"/activations/correct_classes.buffer\", dtype=np.int32)"
   ]
  },
  {
   "cell_type": "code",
   "execution_count": 57,
   "id": "7b0fb8c5-1bc8-4145-aa6a-7808a8ce5111",
   "metadata": {},
   "outputs": [],
   "source": [
    "def do_final_avg_pool(values):\n",
    "    out = np.empty((32, 2048))\n",
    "    for s in range(32):\n",
    "        for c in range(2048):\n",
    "            total = 0\n",
    "            for i in range(7):\n",
    "                for j in range(7):\n",
    "                    total += values[s, i, j, c]\n",
    "            avg_val = total / (7 * 7)\n",
    "            out[s, c] = avg_val\n",
    "    return out"
   ]
  },
  {
   "cell_type": "code",
   "execution_count": 70,
   "id": "5e4dd16e-bc84-467a-a17f-41ca0dc02a0e",
   "metadata": {},
   "outputs": [],
   "source": [
    "final_conv_output_activated = np.reshape(conv_data_list[-1], (32, 7, 7, 2048))"
   ]
  },
  {
   "cell_type": "code",
   "execution_count": 71,
   "id": "f44e3dd9-4ec7-4e51-a8c9-88da53c2fa15",
   "metadata": {},
   "outputs": [],
   "source": [
    "cpu_final_avg_pool = do_final_avg_pool(final_conv_output_activated)"
   ]
  },
  {
   "cell_type": "code",
   "execution_count": 72,
   "id": "8e028e0b-be5d-4702-9a75-9f8957518906",
   "metadata": {},
   "outputs": [],
   "source": [
    "gpu_final_avg_pool = np.reshape(final_avg_pool, (32, 2048))"
   ]
  },
  {
   "cell_type": "code",
   "execution_count": 73,
   "id": "4cb1a2a4-f582-4510-b265-c1ad85746815",
   "metadata": {},
   "outputs": [
    {
     "data": {
      "text/plain": [
       "array([[0.32262802, 0.40709758, 0.32425573, ..., 0.22280605, 0.31874868,\n",
       "        0.10614133],\n",
       "       [0.1417158 , 0.47451776, 0.22778375, ..., 0.526419  , 0.55559315,\n",
       "        0.43875361],\n",
       "       [0.51229633, 0.2663506 , 0.18092323, ..., 0.42836551, 0.35719047,\n",
       "        0.25173681],\n",
       "       ...,\n",
       "       [0.63864847, 0.08726742, 1.01121672, ..., 0.45842764, 0.49730837,\n",
       "        0.14051307],\n",
       "       [0.32922438, 0.26500626, 0.42306894, ..., 0.18250383, 0.53327359,\n",
       "        0.21735177],\n",
       "       [0.4974528 , 0.26396107, 0.40552521, ..., 0.23074147, 0.47229889,\n",
       "        0.3946624 ]])"
      ]
     },
     "execution_count": 73,
     "metadata": {},
     "output_type": "execute_result"
    }
   ],
   "source": [
    "cpu_final_avg_pool"
   ]
  },
  {
   "cell_type": "code",
   "execution_count": 74,
   "id": "e1f6b747-25a2-4c7b-a38d-684a10a52611",
   "metadata": {},
   "outputs": [
    {
     "data": {
      "text/plain": [
       "array([[0.32262802, 0.40709752, 0.32425573, ..., 0.22280604, 0.31874868,\n",
       "        0.10614134],\n",
       "       [0.1417158 , 0.47451773, 0.22778372, ..., 0.526419  , 0.5555932 ,\n",
       "        0.43875363],\n",
       "       [0.5122964 , 0.2663506 , 0.18092322, ..., 0.4283655 , 0.3571905 ,\n",
       "        0.25173685],\n",
       "       ...,\n",
       "       [0.6386485 , 0.08726743, 1.0112166 , ..., 0.45842758, 0.49730843,\n",
       "        0.14051308],\n",
       "       [0.32922438, 0.26500627, 0.4230689 , ..., 0.18250383, 0.5332735 ,\n",
       "        0.21735176],\n",
       "       [0.4974528 , 0.26396105, 0.40552518, ..., 0.2307415 , 0.47229886,\n",
       "        0.39466235]], dtype=float32)"
      ]
     },
     "execution_count": 74,
     "metadata": {},
     "output_type": "execute_result"
    }
   ],
   "source": [
    "gpu_final_avg_pool"
   ]
  },
  {
   "cell_type": "markdown",
   "id": "fb7c3b52-18f9-4578-a225-62948b0a6f13",
   "metadata": {},
   "source": [
    "### Backward Activations"
   ]
  },
  {
   "cell_type": "code",
   "execution_count": 436,
   "id": "757324f7-ae72-4736-8ccd-fa33cbf14660",
   "metadata": {},
   "outputs": [],
   "source": [
    "d_init_conv_applied = np.fromfile(PATH_PREFIX + \"/activation_derivs/init_conv_applied.buffer\", dtype=np.float32)\n",
    "d_init_conv_activated = np.fromfile(PATH_PREFIX + \"/activation_derivs/init_conv_activated.buffer\", dtype=np.float32)\n",
    "d_init_convblock_input = np.fromfile(PATH_PREFIX + \"/activation_derivs/init_convblock_input.buffer\", dtype=np.float32)\n",
    "d_final_avg_pool = np.fromfile(PATH_PREFIX + \"/activation_derivs/final_avg_pool.buffer\", dtype=np.float32)\n",
    "d_fc_output = np.fromfile(PATH_PREFIX + \"/activation_derivs/fc_output.buffer\", dtype=np.float32)\n",
    "d_prediction = np.fromfile(PATH_PREFIX + \"/activation_derivs/softmax.buffer\", dtype=np.float32)"
   ]
  },
  {
   "cell_type": "code",
   "execution_count": 438,
   "id": "75a609e6-c178-4d36-85ea-89642ae7e846",
   "metadata": {},
   "outputs": [
    {
     "name": "stdout",
     "output_type": "stream",
     "text": [
      "[-0.00401514 - 0.004302698]\n"
     ]
    }
   ],
   "source": [
    "print(\"[\" + str(min(d_final_avg_pool)) + \" - \" + str(max(d_final_avg_pool)) + \"]\")"
   ]
  },
  {
   "cell_type": "code",
   "execution_count": 486,
   "id": "9de44225-2d36-44ee-b385-9e047888656c",
   "metadata": {},
   "outputs": [],
   "source": [
    "DUMP_ID = 0\n",
    "PATH_PREFIX = \"/mnt/storage/data/vision/imagenet/training_dumps/\" + str(DUMP_ID).zfill(8)\n",
    "conv_data_list = gather_convblock_data(PATH_PREFIX + \"/activation_derivs/conv_blocks/08\")"
   ]
  },
  {
   "cell_type": "code",
   "execution_count": 487,
   "id": "609108ca-71e1-4428-91e1-4b0f7b6fef11",
   "metadata": {},
   "outputs": [
    {
     "name": "stdout",
     "output_type": "stream",
     "text": [
      "[-3.4619005 - 2.903917]\n",
      "[-0.17878185 - 0.17705059]\n",
      "[-0.75275075 - 0.84935224]\n",
      "[-0.082793474 - 0.08686427]\n",
      "[-0.6543597 - 0.62088454]\n",
      "[-0.025375048 - 0.028530437]\n",
      "[-0.025375048 - 0.028530437]\n"
     ]
    }
   ],
   "source": [
    "for c in conv_data_list:\n",
    "    print(\"[\" + str(min(c)) + \" - \" + str(max(c)) + \"]\")"
   ]
  },
  {
   "cell_type": "code",
   "execution_count": 488,
   "id": "0d0de105-f015-4118-9722-fbfeca25a337",
   "metadata": {},
   "outputs": [],
   "source": [
    "DUMP_ID = 2\n",
    "PATH_PREFIX = \"/mnt/storage/data/vision/imagenet/training_dumps/\" + str(DUMP_ID).zfill(8)\n",
    "conv_data_list = gather_convblock_data(PATH_PREFIX + \"/activation_derivs/conv_blocks/08\")"
   ]
  },
  {
   "cell_type": "code",
   "execution_count": 489,
   "id": "22bd4290-897d-4144-89bd-7b4dd87d1b6a",
   "metadata": {},
   "outputs": [
    {
     "name": "stdout",
     "output_type": "stream",
     "text": [
      "[-3.0024638 - 3.4002678]\n",
      "[-0.18356527 - 0.17030282]\n",
      "[-0.8715495 - 0.8251272]\n",
      "[-0.1011737 - 0.08904381]\n",
      "[-0.74025804 - 0.6807653]\n",
      "[-0.027166499 - 0.028757486]\n",
      "[-0.027166499 - 0.028757486]\n"
     ]
    }
   ],
   "source": [
    "for c in conv_data_list:\n",
    "    print(\"[\" + str(min(c)) + \" - \" + str(max(c)) + \"]\")"
   ]
  },
  {
   "cell_type": "code",
   "execution_count": null,
   "id": "f714df87-c7e6-4dbd-aa7d-44fa0beed40a",
   "metadata": {},
   "outputs": [],
   "source": []
  }
 ],
 "metadata": {
  "kernelspec": {
   "display_name": "Python 3 (ipykernel)",
   "language": "python",
   "name": "python3"
  },
  "language_info": {
   "codemirror_mode": {
    "name": "ipython",
    "version": 3
   },
   "file_extension": ".py",
   "mimetype": "text/x-python",
   "name": "python",
   "nbconvert_exporter": "python",
   "pygments_lexer": "ipython3",
   "version": "3.10.6"
  }
 },
 "nbformat": 4,
 "nbformat_minor": 5
}
